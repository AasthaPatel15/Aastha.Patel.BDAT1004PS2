{
  "cells": [
    {
      "cell_type": "markdown",
      "metadata": {
        "id": "LTXvjKEhUZO0"
      },
      "source": [
        "#**Problem Set 2**"
      ]
    },
    {
      "cell_type": "markdown",
      "metadata": {
        "id": "LeaqLykXUWtK"
      },
      "source": [
        "###Question 1"
      ]
    },
    {
      "cell_type": "markdown",
      "metadata": {
        "id": "Hk9QBKZvVfFS"
      },
      "source": [
        "Answer:\n",
        "You start out with a global variable called a that has the value 0. You define a function c(a) that returns a + 2 and accepts a parameter, a. The b() function makes use of this function. The function b() has been defined. It's crucial to understand that by using global an inside b(), you are referring to the global variable a rather than declaring a local variable an inside the method. Calling the c(a) function from the b() function requires supplying the global variable a, which starts at 0. The result of the c(a) function is 2, or 0 + 2. Following the initial invocation of b(), the global variable an is modified to 2. Two more calls to b() are made. It invokes the c(a) function each time, and c(a) always returns a + 2. Thus, an is updated as follows following each call:\n",
        "\n",
        "A becomes 4 (2 + 2) following the second call to b().\n",
        "Upon making three calls to b(), a changes to 6 (4 + 2).\n",
        "You can retrieve the value of the global variable a by executing >>> a. a has a final value of 6.\n",
        "\n",
        "Thus, the result that appears when you evaluate an in the previous equation will be 6.\n"
      ]
    },
    {
      "cell_type": "markdown",
      "metadata": {
        "id": "hRSBbGBDUUpP"
      },
      "source": [
        "###Question 2"
      ]
    },
    {
      "cell_type": "code",
      "execution_count": 40,
      "metadata": {
        "colab": {
          "base_uri": "https://localhost:8080/"
        },
        "id": "YK5Ti2rNVeca",
        "outputId": "5d4064b1-d0ac-4333-abda-05f2341ce6ab"
      },
      "outputs": [
        {
          "name": "stdout",
          "output_type": "stream",
          "text": [
            "File midterm.py not found.\n",
            "None\n"
          ]
        }
      ],
      "source": [
        "\n",
        "def fileLength(filename):\n",
        "    try:\n",
        "        infile = open(filename, 'r')\n",
        "        contents = infile.read()\n",
        "        infile.close()\n",
        "        length = len(contents)\n",
        "        return length\n",
        "    except FileNotFoundError:\n",
        "        print(f\"File {filename} not found.\")\n",
        "\n",
        "# Test the function\n",
        "try:\n",
        "    length = fileLength('midterm.py')\n",
        "    print(length)\n",
        "except FileNotFoundError:\n",
        "    print(f\"File midterm.py not found.\")\n"
      ]
    },
    {
      "cell_type": "markdown",
      "metadata": {
        "id": "0c3bdBLTUR8R"
      },
      "source": [
        "###Question 3"
      ]
    },
    {
      "cell_type": "code",
      "execution_count": 39,
      "metadata": {
        "colab": {
          "base_uri": "https://localhost:8080/"
        },
        "id": "bLFA_nNLVdtr",
        "outputId": "0d0e9cf0-d490-4a21-f112-2c74084b55f9"
      },
      "outputs": [
        {
          "name": "stdout",
          "output_type": "stream",
          "text": [
            "['doll', 'firetruck', 'kitten']\n",
            "I am a Kangaroo located at coordinates (0,0)\n",
            "['doll', 'firetruck', 'kitten']\n",
            "I am a Kangaroo located at coordinates (3,0)\n"
          ]
        }
      ],
      "source": [
        "class Marsupial:\n",
        "    def __init__(self):\n",
        "        self.pouch = []\n",
        "\n",
        "    def put_in_pouch(self, item):\n",
        "        self.pouch.append(item)\n",
        "\n",
        "    def pouch_contents(self):\n",
        "        return self.pouch\n",
        "\n",
        "\n",
        "class Kangaroo(Marsupial):\n",
        "    def __init__(self, x, y):\n",
        "        super().__init__()\n",
        "        self.x = x\n",
        "        self.y = y\n",
        "\n",
        "    def jump(self, dx, dy):\n",
        "        self.x += dx\n",
        "        self.y += dy\n",
        "\n",
        "    def __str__(self):\n",
        "        return f\"I am a Kangaroo located at coordinates ({self.x},{self.y})\"\n",
        "\n",
        "\n",
        "# Test the classes\n",
        "m = Marsupial()\n",
        "m.put_in_pouch('doll')\n",
        "m.put_in_pouch('firetruck')\n",
        "m.put_in_pouch('kitten')\n",
        "print(m.pouch_contents())\n",
        "\n",
        "k = Kangaroo(0, 0)\n",
        "print(k)\n",
        "\n",
        "k.put_in_pouch('doll')\n",
        "k.put_in_pouch('firetruck')\n",
        "k.put_in_pouch('kitten')\n",
        "print(k.pouch_contents())\n",
        "\n",
        "k.jump(1, 0)\n",
        "k.jump(1, 0)\n",
        "k.jump(1, 0)\n",
        "print(k)\n"
      ]
    },
    {
      "cell_type": "markdown",
      "metadata": {
        "id": "huShecL1UOvw"
      },
      "source": [
        "###Question 4"
      ]
    },
    {
      "cell_type": "code",
      "execution_count": 38,
      "metadata": {
        "colab": {
          "base_uri": "https://localhost:8080/"
        },
        "id": "WxV8EVr3VdRY",
        "outputId": "8bb8070d-537e-4328-e922-8970db3e8e57"
      },
      "outputs": [
        {
          "name": "stdout",
          "output_type": "stream",
          "text": [
            "1\n",
            "10\n",
            "5\n",
            "16\n",
            "8\n",
            "4\n",
            "2\n",
            "1\n"
          ]
        }
      ],
      "source": [
        "def collatz(n):\n",
        "    print(n)\n",
        "    while n != 1:\n",
        "        if n % 2 == 0:\n",
        "            n = n // 2\n",
        "        else:\n",
        "            n = 3 * n + 1\n",
        "        print(n)\n",
        "\n",
        "collatz(1)\n",
        "collatz(10)"
      ]
    },
    {
      "cell_type": "markdown",
      "metadata": {
        "id": "Cj_5WwxBUK-f"
      },
      "source": [
        "###Question 5"
      ]
    },
    {
      "cell_type": "code",
      "execution_count": 37,
      "metadata": {
        "colab": {
          "base_uri": "https://localhost:8080/"
        },
        "id": "0aB2F0ssVc2m",
        "outputId": "701af88c-65bf-4310-9a87-22eda00445fa"
      },
      "outputs": [
        {
          "name": "stdout",
          "output_type": "stream",
          "text": [
            "0\n",
            "1\n",
            "11\n",
            "1001"
          ]
        }
      ],
      "source": [
        "\n",
        "def binary(n):\n",
        "    if n > 1:\n",
        "        binary(n // 2)  # Recursive call with integer division\n",
        "    print(n % 2, end=\"\")  # Print the remainder, end=\"\" to print on the same line\n",
        "\n",
        "# Test the function\n",
        "binary(0)\n",
        "print()  # Print a newline to separate outputs\n",
        "binary(1)\n",
        "print()\n",
        "binary(3)\n",
        "print()\n",
        "binary(9)\n"
      ]
    },
    {
      "cell_type": "markdown",
      "metadata": {
        "id": "-fKs2eynUIPB"
      },
      "source": [
        "###Question 6"
      ]
    },
    {
      "cell_type": "code",
      "execution_count": 36,
      "metadata": {
        "colab": {
          "base_uri": "https://localhost:8080/"
        },
        "id": "3Fow0KGKVcAU",
        "outputId": "eedba9e5-32bd-430a-eb26-59c7fd4fcb45"
      },
      "outputs": [
        {
          "name": "stdout",
          "output_type": "stream",
          "text": [
            "W3C Mission\n",
            "  Principles\n"
          ]
        }
      ],
      "source": [
        "from html.parser import HTMLParser\n",
        "\n",
        "class HeadingParser(HTMLParser):\n",
        "    def __init__(self):\n",
        "        super().__init__()\n",
        "        self.in_heading = False\n",
        "        self.heading_level = 0\n",
        "\n",
        "    def handle_starttag(self, tag, attrs):\n",
        "        if tag.startswith(\"h\") and tag[1:].isdigit():\n",
        "            self.in_heading = True\n",
        "            self.heading_level = int(tag[1])\n",
        "\n",
        "    def handle_endtag(self, tag):\n",
        "        if self.in_heading and tag.startswith(\"h\") and tag[1:].isdigit():\n",
        "            self.in_heading = False\n",
        "\n",
        "    def handle_data(self, data):\n",
        "        if self.in_heading:\n",
        "            indentation = \"  \" * (self.heading_level - 1)\n",
        "            print(f\"{indentation}{data}\")\n",
        "\n",
        "# Test the HeadingParser\n",
        "with open(\"/content/w3c.html\", 'r', encoding='utf-8') as infile:\n",
        "    content = infile.read()\n",
        "\n",
        "hp = HeadingParser()\n",
        "hp.feed(content)\n"
      ]
    },
    {
      "cell_type": "markdown",
      "metadata": {
        "id": "kF8rcgyBUEiM"
      },
      "source": [
        "###Question 7"
      ]
    },
    {
      "cell_type": "code",
      "execution_count": null,
      "metadata": {
        "id": "4bkCgHRTT7bQ"
      },
      "outputs": [],
      "source": [
        "from urllib.request import urlopen\n",
        "from html.parser import HTMLParser\n",
        "from urllib.parse import urljoin\n",
        "\n",
        "class WebDirParser(HTMLParser):\n",
        "    def __init__(self, depth, indent):\n",
        "        super().__init()\n",
        "        self.depth = depth\n",
        "        self.indent = indent\n",
        "        self.current_depth = 0\n",
        "\n",
        "    def handle_starttag(self, tag, attrs):\n",
        "        if tag == 'a':\n",
        "            for attr, value in attrs:\n",
        "                if attr == 'href':\n",
        "                    new_url = urljoin(current_url, value)\n",
        "                    if self.current_depth < self.depth:\n",
        "                        print(\" \" * self.indent * self.current_depth + new_url)\n",
        "                        self.visit(new_url, self.current_depth + 1)\n",
        "\n",
        "def webdir(url, depth, indent):\n",
        "    print(url)\n",
        "    parser = WebDirParser(depth, indent)\n",
        "    parser.visit(url, 1)\n",
        "\n",
        "# Test the function\n",
        "webdir('http://reed.cs.depaul.edu/lperkovic/csc242/test1.html', 2, 0)\n"
      ]
    },
    {
      "cell_type": "markdown",
      "metadata": {
        "id": "shE4CKI9T31R"
      },
      "source": [
        "###Question 8"
      ]
    },
    {
      "cell_type": "code",
      "execution_count": 3,
      "metadata": {
        "colab": {
          "base_uri": "https://localhost:8080/"
        },
        "id": "zx_iqbeSFtWX",
        "outputId": "762d3faa-0fe6-4e9b-d311-65e452dffa18"
      },
      "outputs": [
        {
          "name": "stdout",
          "output_type": "stream",
          "text": [
            "Requirement already satisfied: ipython-sql in /usr/local/lib/python3.10/dist-packages (0.5.0)\n",
            "Requirement already satisfied: prettytable in /usr/local/lib/python3.10/dist-packages (from ipython-sql) (3.9.0)\n",
            "Requirement already satisfied: ipython in /usr/local/lib/python3.10/dist-packages (from ipython-sql) (7.34.0)\n",
            "Requirement already satisfied: sqlalchemy>=2.0 in /usr/local/lib/python3.10/dist-packages (from ipython-sql) (2.0.22)\n",
            "Requirement already satisfied: sqlparse in /usr/local/lib/python3.10/dist-packages (from ipython-sql) (0.4.4)\n",
            "Requirement already satisfied: six in /usr/local/lib/python3.10/dist-packages (from ipython-sql) (1.16.0)\n",
            "Requirement already satisfied: ipython-genutils in /usr/local/lib/python3.10/dist-packages (from ipython-sql) (0.2.0)\n",
            "Requirement already satisfied: typing-extensions>=4.2.0 in /usr/local/lib/python3.10/dist-packages (from sqlalchemy>=2.0->ipython-sql) (4.5.0)\n",
            "Requirement already satisfied: greenlet!=0.4.17 in /usr/local/lib/python3.10/dist-packages (from sqlalchemy>=2.0->ipython-sql) (3.0.0)\n",
            "Requirement already satisfied: setuptools>=18.5 in /usr/local/lib/python3.10/dist-packages (from ipython->ipython-sql) (67.7.2)\n",
            "Collecting jedi>=0.16 (from ipython->ipython-sql)\n",
            "  Downloading jedi-0.19.1-py2.py3-none-any.whl (1.6 MB)\n",
            "\u001b[2K     \u001b[90m━━━━━━━━━━━━━━━━━━━━━━━━━━━━━━━━━━━━━━━━\u001b[0m \u001b[32m1.6/1.6 MB\u001b[0m \u001b[31m10.7 MB/s\u001b[0m eta \u001b[36m0:00:00\u001b[0m\n",
            "\u001b[?25hRequirement already satisfied: decorator in /usr/local/lib/python3.10/dist-packages (from ipython->ipython-sql) (4.4.2)\n",
            "Requirement already satisfied: pickleshare in /usr/local/lib/python3.10/dist-packages (from ipython->ipython-sql) (0.7.5)\n",
            "Requirement already satisfied: traitlets>=4.2 in /usr/local/lib/python3.10/dist-packages (from ipython->ipython-sql) (5.7.1)\n",
            "Requirement already satisfied: prompt-toolkit!=3.0.0,!=3.0.1,<3.1.0,>=2.0.0 in /usr/local/lib/python3.10/dist-packages (from ipython->ipython-sql) (3.0.39)\n",
            "Requirement already satisfied: pygments in /usr/local/lib/python3.10/dist-packages (from ipython->ipython-sql) (2.16.1)\n",
            "Requirement already satisfied: backcall in /usr/local/lib/python3.10/dist-packages (from ipython->ipython-sql) (0.2.0)\n",
            "Requirement already satisfied: matplotlib-inline in /usr/local/lib/python3.10/dist-packages (from ipython->ipython-sql) (0.1.6)\n",
            "Requirement already satisfied: pexpect>4.3 in /usr/local/lib/python3.10/dist-packages (from ipython->ipython-sql) (4.8.0)\n",
            "Requirement already satisfied: wcwidth in /usr/local/lib/python3.10/dist-packages (from prettytable->ipython-sql) (0.2.8)\n",
            "Requirement already satisfied: parso<0.9.0,>=0.8.3 in /usr/local/lib/python3.10/dist-packages (from jedi>=0.16->ipython->ipython-sql) (0.8.3)\n",
            "Requirement already satisfied: ptyprocess>=0.5 in /usr/local/lib/python3.10/dist-packages (from pexpect>4.3->ipython->ipython-sql) (0.7.0)\n",
            "Installing collected packages: jedi\n",
            "Successfully installed jedi-0.19.1\n"
          ]
        }
      ],
      "source": [
        "!pip install ipython-sql"
      ]
    },
    {
      "cell_type": "code",
      "execution_count": 1,
      "metadata": {
        "id": "lzUnH0iQExzC"
      },
      "outputs": [],
      "source": [
        "import pandas as pd\n",
        "import sqlite3"
      ]
    },
    {
      "cell_type": "code",
      "execution_count": 10,
      "metadata": {
        "colab": {
          "base_uri": "https://localhost:8080/"
        },
        "id": "CMbNjKMUE6qN",
        "outputId": "bc184658-4975-4ee3-cf1e-ab2933fdbee9"
      },
      "outputs": [
        {
          "name": "stdout",
          "output_type": "stream",
          "text": [
            "      City         Country  Season  Temperature  Rainfall\n",
            "0   Mumbai           India  Winter         24.8       5.9\n",
            "1   Mumbai           India  Spring         28.4      16.2\n",
            "2   Mumbai           India  Summer         27.9    1549.4\n",
            "3   Mumbai           India    Fall         27.6     346.0\n",
            "4   London  United Kingdom  Winter          4.2     207.7\n",
            "5   London  United Kingdom  Spring          8.3     169.6\n",
            "6   London  United Kingdom  Summer         15.7     157.0\n",
            "7   London  United Kingdom    Fall         10.4     218.5\n",
            "8    Cairo           Egypt  Winter         13.6      16.5\n",
            "9    Cairo           Egypt  Spring         20.7       6.5\n",
            "10   Cairo           Egypt  Summer         27.7       0.1\n",
            "11   Cairo           Egypt    Fall         22.2       4.5\n"
          ]
        }
      ],
      "source": [
        "df = pd.DataFrame({'City': ['Mumbai','Mumbai','Mumbai','Mumbai','London','London','London','London','Cairo','Cairo','Cairo','Cairo'],\n",
        "                    'Country': ['India','India','India','India','United Kingdom','United Kingdom','United Kingdom','United Kingdom','Egypt','Egypt','Egypt','Egypt'],\n",
        "                    'Season': ['Winter','Spring','Summer','Fall','Winter','Spring','Summer','Fall','Winter','Spring','Summer','Fall'],\n",
        "                    'Temperature': [24.8, 28.4, 27.9, 27.6, 4.2, 8.3, 15.7, 10.4,13.6, 20.7, 27.7, 22.2],\n",
        "                    'Rainfall': [5.9, 16.2, 1549.4, 346.0, 207.7, 169.6, 157.0, 218.5, 16.5, 6.5, 0.1, 4.5]})\n",
        "\n",
        "print(df)"
      ]
    },
    {
      "cell_type": "code",
      "execution_count": 12,
      "metadata": {
        "id": "XA2Bp45tNY3J"
      },
      "outputs": [],
      "source": [
        "cnn = sqlite3.connect('jupiter_sql.db')"
      ]
    },
    {
      "cell_type": "code",
      "execution_count": 13,
      "metadata": {
        "colab": {
          "base_uri": "https://localhost:8080/"
        },
        "id": "Ac9B3WDwPklm",
        "outputId": "97934c8b-bc57-48a9-8f36-7b13d9f1695e"
      },
      "outputs": [
        {
          "data": {
            "text/plain": [
              "12"
            ]
          },
          "execution_count": 13,
          "metadata": {},
          "output_type": "execute_result"
        }
      ],
      "source": [
        "df.to_sql('CityWeather',cnn)"
      ]
    },
    {
      "cell_type": "code",
      "execution_count": 14,
      "metadata": {
        "id": "fY4LjT-FQEcM"
      },
      "outputs": [],
      "source": [
        "%load_ext sql"
      ]
    },
    {
      "cell_type": "code",
      "execution_count": 15,
      "metadata": {
        "id": "GUJa6Q60QKM0"
      },
      "outputs": [],
      "source": [
        "%sql sqlite:///jupiter_sql.db"
      ]
    },
    {
      "cell_type": "code",
      "execution_count": 17,
      "metadata": {
        "colab": {
          "base_uri": "https://localhost:8080/",
          "height": 331
        },
        "id": "-cv-hSZkQZOb",
        "outputId": "434348ae-a18c-4bbf-b615-f68f13383f66"
      },
      "outputs": [
        {
          "name": "stdout",
          "output_type": "stream",
          "text": [
            " * sqlite:///jupiter_sql.db\n",
            "Done.\n"
          ]
        },
        {
          "data": {
            "text/html": [
              "<table>\n",
              "    <thead>\n",
              "        <tr>\n",
              "            <th>index</th>\n",
              "            <th>City</th>\n",
              "            <th>Country</th>\n",
              "            <th>Season</th>\n",
              "            <th>Temperature</th>\n",
              "            <th>Rainfall</th>\n",
              "        </tr>\n",
              "    </thead>\n",
              "    <tbody>\n",
              "        <tr>\n",
              "            <td>0</td>\n",
              "            <td>Mumbai</td>\n",
              "            <td>India</td>\n",
              "            <td>Winter</td>\n",
              "            <td>24.8</td>\n",
              "            <td>5.9</td>\n",
              "        </tr>\n",
              "        <tr>\n",
              "            <td>1</td>\n",
              "            <td>Mumbai</td>\n",
              "            <td>India</td>\n",
              "            <td>Spring</td>\n",
              "            <td>28.4</td>\n",
              "            <td>16.2</td>\n",
              "        </tr>\n",
              "        <tr>\n",
              "            <td>2</td>\n",
              "            <td>Mumbai</td>\n",
              "            <td>India</td>\n",
              "            <td>Summer</td>\n",
              "            <td>27.9</td>\n",
              "            <td>1549.4</td>\n",
              "        </tr>\n",
              "        <tr>\n",
              "            <td>3</td>\n",
              "            <td>Mumbai</td>\n",
              "            <td>India</td>\n",
              "            <td>Fall</td>\n",
              "            <td>27.6</td>\n",
              "            <td>346.0</td>\n",
              "        </tr>\n",
              "        <tr>\n",
              "            <td>4</td>\n",
              "            <td>London</td>\n",
              "            <td>United Kingdom</td>\n",
              "            <td>Winter</td>\n",
              "            <td>4.2</td>\n",
              "            <td>207.7</td>\n",
              "        </tr>\n",
              "        <tr>\n",
              "            <td>5</td>\n",
              "            <td>London</td>\n",
              "            <td>United Kingdom</td>\n",
              "            <td>Spring</td>\n",
              "            <td>8.3</td>\n",
              "            <td>169.6</td>\n",
              "        </tr>\n",
              "        <tr>\n",
              "            <td>6</td>\n",
              "            <td>London</td>\n",
              "            <td>United Kingdom</td>\n",
              "            <td>Summer</td>\n",
              "            <td>15.7</td>\n",
              "            <td>157.0</td>\n",
              "        </tr>\n",
              "        <tr>\n",
              "            <td>7</td>\n",
              "            <td>London</td>\n",
              "            <td>United Kingdom</td>\n",
              "            <td>Fall</td>\n",
              "            <td>10.4</td>\n",
              "            <td>218.5</td>\n",
              "        </tr>\n",
              "        <tr>\n",
              "            <td>8</td>\n",
              "            <td>Cairo</td>\n",
              "            <td>Egypt</td>\n",
              "            <td>Winter</td>\n",
              "            <td>13.6</td>\n",
              "            <td>16.5</td>\n",
              "        </tr>\n",
              "        <tr>\n",
              "            <td>9</td>\n",
              "            <td>Cairo</td>\n",
              "            <td>Egypt</td>\n",
              "            <td>Spring</td>\n",
              "            <td>20.7</td>\n",
              "            <td>6.5</td>\n",
              "        </tr>\n",
              "        <tr>\n",
              "            <td>10</td>\n",
              "            <td>Cairo</td>\n",
              "            <td>Egypt</td>\n",
              "            <td>Summer</td>\n",
              "            <td>27.7</td>\n",
              "            <td>0.1</td>\n",
              "        </tr>\n",
              "        <tr>\n",
              "            <td>11</td>\n",
              "            <td>Cairo</td>\n",
              "            <td>Egypt</td>\n",
              "            <td>Fall</td>\n",
              "            <td>22.2</td>\n",
              "            <td>4.5</td>\n",
              "        </tr>\n",
              "    </tbody>\n",
              "</table>"
            ],
            "text/plain": [
              "[(0, 'Mumbai', 'India', 'Winter', 24.8, 5.9),\n",
              " (1, 'Mumbai', 'India', 'Spring', 28.4, 16.2),\n",
              " (2, 'Mumbai', 'India', 'Summer', 27.9, 1549.4),\n",
              " (3, 'Mumbai', 'India', 'Fall', 27.6, 346.0),\n",
              " (4, 'London', 'United Kingdom', 'Winter', 4.2, 207.7),\n",
              " (5, 'London', 'United Kingdom', 'Spring', 8.3, 169.6),\n",
              " (6, 'London', 'United Kingdom', 'Summer', 15.7, 157.0),\n",
              " (7, 'London', 'United Kingdom', 'Fall', 10.4, 218.5),\n",
              " (8, 'Cairo', 'Egypt', 'Winter', 13.6, 16.5),\n",
              " (9, 'Cairo', 'Egypt', 'Spring', 20.7, 6.5),\n",
              " (10, 'Cairo', 'Egypt', 'Summer', 27.7, 0.1),\n",
              " (11, 'Cairo', 'Egypt', 'Fall', 22.2, 4.5)]"
            ]
          },
          "execution_count": 17,
          "metadata": {},
          "output_type": "execute_result"
        }
      ],
      "source": [
        "%%sql\n",
        "\n",
        "SELECT *\n",
        "FROM CityWeather"
      ]
    },
    {
      "cell_type": "markdown",
      "metadata": {
        "id": "fNlEV9QbSBKL"
      },
      "source": [
        "A)"
      ]
    },
    {
      "cell_type": "code",
      "execution_count": 18,
      "metadata": {
        "colab": {
          "base_uri": "https://localhost:8080/",
          "height": 331
        },
        "id": "0uk65P8jMADz",
        "outputId": "4b42c826-f6ea-493c-d600-74a067081dec"
      },
      "outputs": [
        {
          "name": "stdout",
          "output_type": "stream",
          "text": [
            " * sqlite:///jupiter_sql.db\n",
            "Done.\n"
          ]
        },
        {
          "data": {
            "text/html": [
              "<table>\n",
              "    <thead>\n",
              "        <tr>\n",
              "            <th>Temperature</th>\n",
              "        </tr>\n",
              "    </thead>\n",
              "    <tbody>\n",
              "        <tr>\n",
              "            <td>24.8</td>\n",
              "        </tr>\n",
              "        <tr>\n",
              "            <td>28.4</td>\n",
              "        </tr>\n",
              "        <tr>\n",
              "            <td>27.9</td>\n",
              "        </tr>\n",
              "        <tr>\n",
              "            <td>27.6</td>\n",
              "        </tr>\n",
              "        <tr>\n",
              "            <td>4.2</td>\n",
              "        </tr>\n",
              "        <tr>\n",
              "            <td>8.3</td>\n",
              "        </tr>\n",
              "        <tr>\n",
              "            <td>15.7</td>\n",
              "        </tr>\n",
              "        <tr>\n",
              "            <td>10.4</td>\n",
              "        </tr>\n",
              "        <tr>\n",
              "            <td>13.6</td>\n",
              "        </tr>\n",
              "        <tr>\n",
              "            <td>20.7</td>\n",
              "        </tr>\n",
              "        <tr>\n",
              "            <td>27.7</td>\n",
              "        </tr>\n",
              "        <tr>\n",
              "            <td>22.2</td>\n",
              "        </tr>\n",
              "    </tbody>\n",
              "</table>"
            ],
            "text/plain": [
              "[(24.8,),\n",
              " (28.4,),\n",
              " (27.9,),\n",
              " (27.6,),\n",
              " (4.2,),\n",
              " (8.3,),\n",
              " (15.7,),\n",
              " (10.4,),\n",
              " (13.6,),\n",
              " (20.7,),\n",
              " (27.7,),\n",
              " (22.2,)]"
            ]
          },
          "execution_count": 18,
          "metadata": {},
          "output_type": "execute_result"
        }
      ],
      "source": [
        "%%sql SELECT Temperature FROM CityWeather;\n"
      ]
    },
    {
      "cell_type": "markdown",
      "metadata": {
        "id": "hfwmcRcKSGMS"
      },
      "source": [
        "B)"
      ]
    },
    {
      "cell_type": "code",
      "execution_count": 19,
      "metadata": {
        "colab": {
          "base_uri": "https://localhost:8080/",
          "height": 139
        },
        "id": "mG_OO4n0RGQ9",
        "outputId": "e93c4e74-5dbb-48a2-98f9-8aa2363576f8"
      },
      "outputs": [
        {
          "name": "stdout",
          "output_type": "stream",
          "text": [
            " * sqlite:///jupiter_sql.db\n",
            "Done.\n"
          ]
        },
        {
          "data": {
            "text/html": [
              "<table>\n",
              "    <thead>\n",
              "        <tr>\n",
              "            <th>City</th>\n",
              "        </tr>\n",
              "    </thead>\n",
              "    <tbody>\n",
              "        <tr>\n",
              "            <td>Mumbai</td>\n",
              "        </tr>\n",
              "        <tr>\n",
              "            <td>London</td>\n",
              "        </tr>\n",
              "        <tr>\n",
              "            <td>Cairo</td>\n",
              "        </tr>\n",
              "    </tbody>\n",
              "</table>"
            ],
            "text/plain": [
              "[('Mumbai',), ('London',), ('Cairo',)]"
            ]
          },
          "execution_count": 19,
          "metadata": {},
          "output_type": "execute_result"
        }
      ],
      "source": [
        "%%sql SELECT DISTINCT City FROM CityWeather;\n"
      ]
    },
    {
      "cell_type": "markdown",
      "metadata": {
        "id": "NVTdoXOfSI7p"
      },
      "source": [
        "C)"
      ]
    },
    {
      "cell_type": "code",
      "execution_count": 20,
      "metadata": {
        "colab": {
          "base_uri": "https://localhost:8080/",
          "height": 161
        },
        "id": "BUI2buWTRN-9",
        "outputId": "c0f7d590-5e50-432b-8e43-fb5eab54095b"
      },
      "outputs": [
        {
          "name": "stdout",
          "output_type": "stream",
          "text": [
            " * sqlite:///jupiter_sql.db\n",
            "Done.\n"
          ]
        },
        {
          "data": {
            "text/html": [
              "<table>\n",
              "    <thead>\n",
              "        <tr>\n",
              "            <th>index</th>\n",
              "            <th>City</th>\n",
              "            <th>Country</th>\n",
              "            <th>Season</th>\n",
              "            <th>Temperature</th>\n",
              "            <th>Rainfall</th>\n",
              "        </tr>\n",
              "    </thead>\n",
              "    <tbody>\n",
              "        <tr>\n",
              "            <td>0</td>\n",
              "            <td>Mumbai</td>\n",
              "            <td>India</td>\n",
              "            <td>Winter</td>\n",
              "            <td>24.8</td>\n",
              "            <td>5.9</td>\n",
              "        </tr>\n",
              "        <tr>\n",
              "            <td>1</td>\n",
              "            <td>Mumbai</td>\n",
              "            <td>India</td>\n",
              "            <td>Spring</td>\n",
              "            <td>28.4</td>\n",
              "            <td>16.2</td>\n",
              "        </tr>\n",
              "        <tr>\n",
              "            <td>2</td>\n",
              "            <td>Mumbai</td>\n",
              "            <td>India</td>\n",
              "            <td>Summer</td>\n",
              "            <td>27.9</td>\n",
              "            <td>1549.4</td>\n",
              "        </tr>\n",
              "        <tr>\n",
              "            <td>3</td>\n",
              "            <td>Mumbai</td>\n",
              "            <td>India</td>\n",
              "            <td>Fall</td>\n",
              "            <td>27.6</td>\n",
              "            <td>346.0</td>\n",
              "        </tr>\n",
              "    </tbody>\n",
              "</table>"
            ],
            "text/plain": [
              "[(0, 'Mumbai', 'India', 'Winter', 24.8, 5.9),\n",
              " (1, 'Mumbai', 'India', 'Spring', 28.4, 16.2),\n",
              " (2, 'Mumbai', 'India', 'Summer', 27.9, 1549.4),\n",
              " (3, 'Mumbai', 'India', 'Fall', 27.6, 346.0)]"
            ]
          },
          "execution_count": 20,
          "metadata": {},
          "output_type": "execute_result"
        }
      ],
      "source": [
        "%%sql SELECT * FROM CityWeather WHERE Country = 'India';\n"
      ]
    },
    {
      "cell_type": "markdown",
      "metadata": {
        "id": "wQM2aW2iSK65"
      },
      "source": [
        "D)"
      ]
    },
    {
      "cell_type": "code",
      "execution_count": 21,
      "metadata": {
        "colab": {
          "base_uri": "https://localhost:8080/",
          "height": 139
        },
        "id": "ivxqh2qdRSlM",
        "outputId": "796c724b-b999-4f1e-ce6a-b3c8e36a6ded"
      },
      "outputs": [
        {
          "name": "stdout",
          "output_type": "stream",
          "text": [
            " * sqlite:///jupiter_sql.db\n",
            "Done.\n"
          ]
        },
        {
          "data": {
            "text/html": [
              "<table>\n",
              "    <thead>\n",
              "        <tr>\n",
              "            <th>index</th>\n",
              "            <th>City</th>\n",
              "            <th>Country</th>\n",
              "            <th>Season</th>\n",
              "            <th>Temperature</th>\n",
              "            <th>Rainfall</th>\n",
              "        </tr>\n",
              "    </thead>\n",
              "    <tbody>\n",
              "        <tr>\n",
              "            <td>3</td>\n",
              "            <td>Mumbai</td>\n",
              "            <td>India</td>\n",
              "            <td>Fall</td>\n",
              "            <td>27.6</td>\n",
              "            <td>346.0</td>\n",
              "        </tr>\n",
              "        <tr>\n",
              "            <td>7</td>\n",
              "            <td>London</td>\n",
              "            <td>United Kingdom</td>\n",
              "            <td>Fall</td>\n",
              "            <td>10.4</td>\n",
              "            <td>218.5</td>\n",
              "        </tr>\n",
              "        <tr>\n",
              "            <td>11</td>\n",
              "            <td>Cairo</td>\n",
              "            <td>Egypt</td>\n",
              "            <td>Fall</td>\n",
              "            <td>22.2</td>\n",
              "            <td>4.5</td>\n",
              "        </tr>\n",
              "    </tbody>\n",
              "</table>"
            ],
            "text/plain": [
              "[(3, 'Mumbai', 'India', 'Fall', 27.6, 346.0),\n",
              " (7, 'London', 'United Kingdom', 'Fall', 10.4, 218.5),\n",
              " (11, 'Cairo', 'Egypt', 'Fall', 22.2, 4.5)]"
            ]
          },
          "execution_count": 21,
          "metadata": {},
          "output_type": "execute_result"
        }
      ],
      "source": [
        "%%sql SELECT * FROM CityWeather WHERE Season = 'Fall';\n"
      ]
    },
    {
      "cell_type": "markdown",
      "metadata": {
        "id": "Kt0NKyA5SOiw"
      },
      "source": [
        "E)"
      ]
    },
    {
      "cell_type": "code",
      "execution_count": 22,
      "metadata": {
        "colab": {
          "base_uri": "https://localhost:8080/",
          "height": 139
        },
        "id": "DddWiglDRWld",
        "outputId": "e0bc0a09-42fd-44ec-fb3e-eab0176d046d"
      },
      "outputs": [
        {
          "name": "stdout",
          "output_type": "stream",
          "text": [
            " * sqlite:///jupiter_sql.db\n",
            "Done.\n"
          ]
        },
        {
          "data": {
            "text/html": [
              "<table>\n",
              "    <thead>\n",
              "        <tr>\n",
              "            <th>City</th>\n",
              "            <th>Country</th>\n",
              "            <th>Season</th>\n",
              "        </tr>\n",
              "    </thead>\n",
              "    <tbody>\n",
              "        <tr>\n",
              "            <td>London</td>\n",
              "            <td>United Kingdom</td>\n",
              "            <td>Fall</td>\n",
              "        </tr>\n",
              "        <tr>\n",
              "            <td>London</td>\n",
              "            <td>United Kingdom</td>\n",
              "            <td>Winter</td>\n",
              "        </tr>\n",
              "        <tr>\n",
              "            <td>Mumbai</td>\n",
              "            <td>India</td>\n",
              "            <td>Fall</td>\n",
              "        </tr>\n",
              "    </tbody>\n",
              "</table>"
            ],
            "text/plain": [
              "[('London', 'United Kingdom', 'Fall'),\n",
              " ('London', 'United Kingdom', 'Winter'),\n",
              " ('Mumbai', 'India', 'Fall')]"
            ]
          },
          "execution_count": 22,
          "metadata": {},
          "output_type": "execute_result"
        }
      ],
      "source": [
        "%%sql\n",
        "SELECT City, Country, Season\n",
        "FROM CityWeather\n",
        "GROUP BY City, Country, Season\n",
        "HAVING AVG(Rainfall) BETWEEN 200 AND 400;\n"
      ]
    },
    {
      "cell_type": "markdown",
      "metadata": {
        "id": "8DKk2J7HSdbv"
      },
      "source": [
        "F)"
      ]
    },
    {
      "cell_type": "code",
      "execution_count": 23,
      "metadata": {
        "colab": {
          "base_uri": "https://localhost:8080/",
          "height": 118
        },
        "id": "KYY-6Op5Seqz",
        "outputId": "ec01017f-49ce-40a8-f0d7-94beb8bf69d3"
      },
      "outputs": [
        {
          "name": "stdout",
          "output_type": "stream",
          "text": [
            " * sqlite:///jupiter_sql.db\n",
            "Done.\n"
          ]
        },
        {
          "data": {
            "text/html": [
              "<table>\n",
              "    <thead>\n",
              "        <tr>\n",
              "            <th>City</th>\n",
              "            <th>Country</th>\n",
              "        </tr>\n",
              "    </thead>\n",
              "    <tbody>\n",
              "        <tr>\n",
              "            <td>Cairo</td>\n",
              "            <td>Egypt</td>\n",
              "        </tr>\n",
              "        <tr>\n",
              "            <td>Mumbai</td>\n",
              "            <td>India</td>\n",
              "        </tr>\n",
              "    </tbody>\n",
              "</table>"
            ],
            "text/plain": [
              "[('Cairo', 'Egypt'), ('Mumbai', 'India')]"
            ]
          },
          "execution_count": 23,
          "metadata": {},
          "output_type": "execute_result"
        }
      ],
      "source": [
        "%%sql\n",
        "SELECT City, Country\n",
        "FROM CityWeather\n",
        "WHERE Season = 'Fall'\n",
        "GROUP BY City, Country\n",
        "HAVING AVG(Temperature) > 20\n",
        "ORDER BY AVG(Temperature) ASC;\n"
      ]
    },
    {
      "cell_type": "markdown",
      "metadata": {
        "id": "PQiofRmJSlL0"
      },
      "source": [
        "G)"
      ]
    },
    {
      "cell_type": "code",
      "execution_count": 24,
      "metadata": {
        "colab": {
          "base_uri": "https://localhost:8080/",
          "height": 96
        },
        "id": "c_49JOsTSmvT",
        "outputId": "74f13911-7e07-4de2-f91e-9d79b8384e3b"
      },
      "outputs": [
        {
          "name": "stdout",
          "output_type": "stream",
          "text": [
            " * sqlite:///jupiter_sql.db\n",
            "Done.\n"
          ]
        },
        {
          "data": {
            "text/html": [
              "<table>\n",
              "    <thead>\n",
              "        <tr>\n",
              "            <th>TotalRainfall</th>\n",
              "        </tr>\n",
              "    </thead>\n",
              "    <tbody>\n",
              "        <tr>\n",
              "            <td>27.6</td>\n",
              "        </tr>\n",
              "    </tbody>\n",
              "</table>"
            ],
            "text/plain": [
              "[(27.6,)]"
            ]
          },
          "execution_count": 24,
          "metadata": {},
          "output_type": "execute_result"
        }
      ],
      "source": [
        "%%sql\n",
        "SELECT SUM(Rainfall) AS TotalRainfall\n",
        "FROM CityWeather\n",
        "WHERE City = 'Cairo';\n"
      ]
    },
    {
      "cell_type": "markdown",
      "metadata": {
        "id": "KRfcfVf8SqWA"
      },
      "source": [
        "H)"
      ]
    },
    {
      "cell_type": "code",
      "execution_count": 25,
      "metadata": {
        "colab": {
          "base_uri": "https://localhost:8080/",
          "height": 161
        },
        "id": "EdPdC-V2Sp7K",
        "outputId": "1d3c2ffa-7222-465f-826b-9fea0de09284"
      },
      "outputs": [
        {
          "name": "stdout",
          "output_type": "stream",
          "text": [
            " * sqlite:///jupiter_sql.db\n",
            "Done.\n"
          ]
        },
        {
          "data": {
            "text/html": [
              "<table>\n",
              "    <thead>\n",
              "        <tr>\n",
              "            <th>Season</th>\n",
              "            <th>TotalRainfall</th>\n",
              "        </tr>\n",
              "    </thead>\n",
              "    <tbody>\n",
              "        <tr>\n",
              "            <td>Fall</td>\n",
              "            <td>569.0</td>\n",
              "        </tr>\n",
              "        <tr>\n",
              "            <td>Spring</td>\n",
              "            <td>192.29999999999998</td>\n",
              "        </tr>\n",
              "        <tr>\n",
              "            <td>Summer</td>\n",
              "            <td>1706.5</td>\n",
              "        </tr>\n",
              "        <tr>\n",
              "            <td>Winter</td>\n",
              "            <td>230.1</td>\n",
              "        </tr>\n",
              "    </tbody>\n",
              "</table>"
            ],
            "text/plain": [
              "[('Fall', 569.0),\n",
              " ('Spring', 192.29999999999998),\n",
              " ('Summer', 1706.5),\n",
              " ('Winter', 230.1)]"
            ]
          },
          "execution_count": 25,
          "metadata": {},
          "output_type": "execute_result"
        }
      ],
      "source": [
        "%%sql\n",
        "SELECT Season, SUM(Rainfall) AS TotalRainfall\n",
        "FROM CityWeather\n",
        "GROUP BY Season;\n"
      ]
    },
    {
      "cell_type": "markdown",
      "metadata": {
        "id": "maxjMK_3Sytf"
      },
      "source": [
        "###Question 9"
      ]
    },
    {
      "cell_type": "code",
      "execution_count": 27,
      "metadata": {
        "id": "ZHu_5vWJTPrP"
      },
      "outputs": [],
      "source": [
        "words = ['The', 'quick', 'brown', 'fox', 'jumps', 'over',\n",
        "'the', 'lazy', 'dog']\n"
      ]
    },
    {
      "cell_type": "code",
      "execution_count": 29,
      "metadata": {
        "colab": {
          "base_uri": "https://localhost:8080/"
        },
        "id": "TkmO5FtLS2lX",
        "outputId": "fdbe0f4d-7d87-400d-d1f8-c99ed0ef2a3b"
      },
      "outputs": [
        {
          "name": "stdout",
          "output_type": "stream",
          "text": [
            "['THE', 'QUICK', 'BROWN', 'FOX', 'JUMPS', 'OVER', 'THE', 'LAZY', 'DOG']\n"
          ]
        }
      ],
      "source": [
        "uppercase_words = [word.upper() for word in words]\n",
        "print(uppercase_words)\n"
      ]
    },
    {
      "cell_type": "code",
      "execution_count": 30,
      "metadata": {
        "colab": {
          "base_uri": "https://localhost:8080/"
        },
        "id": "8nQAHPZYTdRz",
        "outputId": "b0821d4d-7c05-4f3b-9085-d0052813d9e1"
      },
      "outputs": [
        {
          "name": "stdout",
          "output_type": "stream",
          "text": [
            "['the', 'quick', 'brown', 'fox', 'jumps', 'over', 'the', 'lazy', 'dog']\n"
          ]
        }
      ],
      "source": [
        "lowercase_words = [word.lower() for word in words]\n",
        "print(lowercase_words)"
      ]
    },
    {
      "cell_type": "code",
      "execution_count": 31,
      "metadata": {
        "colab": {
          "base_uri": "https://localhost:8080/"
        },
        "id": "ZNMbFQDKTicW",
        "outputId": "3912f068-ad03-48a6-aa06-12bb96eeeba8"
      },
      "outputs": [
        {
          "name": "stdout",
          "output_type": "stream",
          "text": [
            "['the', 'quick', 'brown', 'fox', 'jumps', 'over', 'the', 'lazy', 'dog']\n"
          ]
        }
      ],
      "source": [
        "lowercase_words = [word.lower() for word in words]\n",
        "print(lowercase_words)"
      ]
    },
    {
      "cell_type": "code",
      "execution_count": 32,
      "metadata": {
        "colab": {
          "base_uri": "https://localhost:8080/"
        },
        "id": "f0En9GgyTmbK",
        "outputId": "86d32686-82e6-4afc-8458-c54c3f881be4"
      },
      "outputs": [
        {
          "name": "stdout",
          "output_type": "stream",
          "text": [
            "[['THE', 'the', 3], ['QUICK', 'quick', 5], ['BROWN', 'brown', 5], ['FOX', 'fox', 3], ['JUMPS', 'jumps', 5], ['OVER', 'over', 4], ['THE', 'the', 3], ['LAZY', 'lazy', 4], ['DOG', 'dog', 3]]\n"
          ]
        }
      ],
      "source": [
        "word_info = [[word.upper(), word.lower(), len(word)] for word in words]\n",
        "print(word_info)"
      ]
    },
    {
      "cell_type": "code",
      "execution_count": 33,
      "metadata": {
        "colab": {
          "base_uri": "https://localhost:8080/"
        },
        "id": "Yll9UpLTTpv0",
        "outputId": "3e4cd846-0dad-4abe-af15-8169a74f0a7a"
      },
      "outputs": [
        {
          "name": "stdout",
          "output_type": "stream",
          "text": [
            "['quick', 'brown', 'jumps', 'over', 'lazy']\n"
          ]
        }
      ],
      "source": [
        "words_4_or_more_chars = [word for word in words if len(word) >= 4]\n",
        "print(words_4_or_more_chars)"
      ]
    }
  ],
  "metadata": {
    "colab": {
      "name": "Welcome to Colaboratory",
      "provenance": []
    },
    "kernelspec": {
      "display_name": "Python 3",
      "name": "python3"
    }
  },
  "nbformat": 4,
  "nbformat_minor": 0
}
